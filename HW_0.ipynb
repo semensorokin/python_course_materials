{
 "cells": [
  {
   "cell_type": "markdown",
   "id": "4aae3dfe",
   "metadata": {},
   "source": [
    "## Вывод (std out)"
   ]
  },
  {
   "cell_type": "code",
   "execution_count": 97,
   "id": "19d51336",
   "metadata": {},
   "outputs": [],
   "source": [
    "## Напишите программу, которая вводит строки без newline или space (не забудьте что print принимает сколько угодно аргументов)\n",
    "\n",
    "# Тестовые данные\n",
    "\n",
    "# 1, 5, 8, 3 -> 1583\n",
    "# 1, \"new\", 8, \"old\" -> 1new8old"
   ]
  },
  {
   "cell_type": "code",
   "execution_count": 245,
   "id": "d20d52c5",
   "metadata": {
    "scrolled": false
   },
   "outputs": [
    {
     "name": "stdout",
     "output_type": "stream",
     "text": [
      "1583\n",
      "1new8old"
     ]
    }
   ],
   "source": [
    "numbers = [1,5,8,3]\n",
    "print(*numbers, end=\"\" , sep=\"\") \n",
    "print()\n",
    "info = [1, \"new\", 8, \"old\"]\n",
    "print(*info, end=\"\", sep=\"\")"
   ]
  },
  {
   "cell_type": "code",
   "execution_count": null,
   "id": "4add0113",
   "metadata": {},
   "outputs": [],
   "source": [
    "#Арифметика"
   ]
  },
  {
   "cell_type": "code",
   "execution_count": null,
   "id": "a7a1bfa0",
   "metadata": {},
   "outputs": [],
   "source": [
    "## Расчитайте расстояние между двумя заданными точками (math.sqrt) заданными в двумерном пространстве\n",
    "\n",
    "# Тестовые данные\n",
    "\n",
    "# [0, 0], [1, 1] -> 1.4142135623730951\n",
    "# [0, 1], [1, 5] -> 4.123105625617661\n",
    "# [4, 1], [12, 5] -> 8.94427190999916\n"
   ]
  },
  {
   "cell_type": "code",
   "execution_count": 258,
   "id": "d66833ba",
   "metadata": {},
   "outputs": [
    {
     "name": "stdout",
     "output_type": "stream",
     "text": [
      "Введите координат x первой точки: 0\n",
      "Введите координат y первой точки: 1\n",
      "Введите координат x второй точки: 0\n",
      "Введите координат y второй точки: 1\n",
      "1.4142135623730951\n",
      "8.94427190999916\n"
     ]
    }
   ],
   "source": [
    "#первый вармант \n",
    "from math import sqrt\n",
    "# [0, 0], [1, 1] -> 1.4142135623730951\n",
    "#x: list = [0,0]\n",
    "# y: list = [1,1]\n",
    "x1 = int(input(\"Введите координат x первой точки: \"))\n",
    "y1 = int(input(\"Введите координат y первой точки: \"))\n",
    "\n",
    "x2 = int(input(\"Введите координат x второй точки: \"))\n",
    "y2 = int(input(\"Введите координат y второй точки: \"))\n",
    "\n",
    "def distance_between_2points(y1,x1,y2,x2) -> float: \n",
    "    return sqrt((y1-x1)**2 + (y2-x2)**2)\n",
    "print (distance_between_2points(y1,x1,y2,x2)) \n",
    "\n",
    "# второй вариант \n",
    "from math import sqrt\n",
    "x = [4,1]\n",
    "y = [12,5]\n",
    "Deltax = y[0]-x[0]\n",
    "Deltay = y[1]- x[1]\n",
    "Distance = 0 \n",
    "Distance = sqrt(Deltax**2 + Deltay**2)\n",
    "print(Distance)"
   ]
  },
  {
   "cell_type": "markdown",
   "id": "6c5d4192",
   "metadata": {},
   "source": [
    "## Списки"
   ]
  },
  {
   "cell_type": "code",
   "execution_count": 219,
   "id": "ace65e2e",
   "metadata": {},
   "outputs": [],
   "source": [
    "## Посчитайте сумму элементов в списке (только тех, что чей тип float)\n",
    "\n",
    "# Тестовые данные\n",
    "\n",
    "color_list = [0.1,\"зеленый\", 1.6, \"белый\", 0.3, \"черный\", 7, \"2.0\"]\n",
    "\n",
    "# ответ: 2"
   ]
  },
  {
   "cell_type": "code",
   "execution_count": 263,
   "id": "d8db5eef",
   "metadata": {},
   "outputs": [
    {
     "name": "stdout",
     "output_type": "stream",
     "text": [
      "2\n",
      "2\n"
     ]
    }
   ],
   "source": [
    "#первый вариант \n",
    "color_list = [0.1,\"зеленый\", 1.6, \"белый\", 0.3, \"черный\", 7, \"2.0\"]\n",
    "i = 0 \n",
    "\n",
    "len_list = 8 \n",
    "\n",
    "total=0 \n",
    "\n",
    "while i < len_list: \n",
    "    \n",
    "    element_list = color_list[i]  \n",
    "    \n",
    "    if type(element_list) == float: \n",
    "        total = total + element_list\n",
    "    i = i + 1  \n",
    "print (int(total))\n",
    "\n",
    "#второй вариант \n",
    "color_list = [0.1,\"зеленый\", 1.6, \"белый\", 0.3, \"черный\", 7, \"2.0\"]\n",
    "total = 0\n",
    "for element in color_list:\n",
    "    if type (element) == float:\n",
    "        total += element \n",
    "print(int(total))"
   ]
  },
  {
   "cell_type": "code",
   "execution_count": 206,
   "id": "f5efd6f8",
   "metadata": {},
   "outputs": [],
   "source": [
    "## Отобразите с помощью print только первый и последний элемент списка (цикл while)\n",
    "\n",
    "# Тестовые данные\n",
    "\n",
    "color_list = [\"красный\",\"зеленый\",\"белый\" ,\"черный\"]"
   ]
  },
  {
   "cell_type": "code",
   "execution_count": 301,
   "id": "e1904dcc",
   "metadata": {},
   "outputs": [
    {
     "name": "stdout",
     "output_type": "stream",
     "text": [
      "красный, черный\n"
     ]
    }
   ],
   "source": [
    "color_list: list = [\"красный\",\"зеленый\",\"белый\" ,\"черный\"]\n",
    "\n",
    "i: int = 0\n",
    "while i < len(color_list):\n",
    "    if i == 0:\n",
    "        print(color_list[i], end=\", \")\n",
    "    if i == len(color_list) - 1:\n",
    "        print(color_list[i])\n",
    "    i += 1\n",
    "    "
   ]
  },
  {
   "cell_type": "code",
   "execution_count": 5,
   "id": "0120e466",
   "metadata": {},
   "outputs": [],
   "source": [
    "## Проверьте есть ли в данный элемент в списке, если есть выведите с помощью print \"Element такой то was found\", \n",
    "# если элемента не нашлось выведите \"Clear\" (цикл while) \n",
    "\n",
    "# Тестовые данные\n",
    "\n",
    "# 3 -> [1, 5, 8, 3] -> \"Element 3 was found\"\n",
    "# -1 -> [1, 5, 8, 3] -> \"Clear\"\n",
    "# \"color\" -> [1, \"color\", 1.3, 3] ->  \"Element color was found\"\n"
   ]
  },
  {
   "cell_type": "code",
   "execution_count": 269,
   "id": "c7f44ae6",
   "metadata": {
    "scrolled": true
   },
   "outputs": [
    {
     "name": "stdout",
     "output_type": "stream",
     "text": [
      "element 3 was found\n",
      "clear\n",
      "element color was found\n"
     ]
    }
   ],
   "source": [
    "# 3 -> [1, 5, 8, 3] -> \"Element 3 was found\"\n",
    "i = 0 \n",
    "lst = [ 1, 5, 8, 3]\n",
    "element1 = 3 \n",
    "\n",
    "while i < len(lst):\n",
    "    if element1 == lst[i]:\n",
    "        print (\"element 3 was found\")\n",
    "        break\n",
    "    i = i + 1\n",
    "else:\n",
    "    print (\"clear\")\n",
    "       \n",
    "# -1 -> [1, 5, 8, 3] -> \"Clear\" \n",
    "\n",
    "i = 0 \n",
    "lst1 = [1, 5, 8, 3] \n",
    "element2 = -1 \n",
    "\n",
    "while i < len(lst1):\n",
    "    if element2 == lst1[i]:\n",
    "        print (\"element -1 was found\")\n",
    "        break\n",
    "    i = i + 1\n",
    "else:\n",
    "    print (\"clear\") \n",
    "    \n",
    "# \"color\" -> [1, \"color\", 1.3, 3] ->  \"Element color was found\" \n",
    "i = 0 \n",
    "lst2 = [1, \"color\", 1.3, 3] \n",
    "element3 = \"color\"\n",
    "\n",
    "while i < len(lst2):\n",
    "    if element3 == lst2[i]:\n",
    "        print (\"element color was found\")\n",
    "        break\n",
    "    i = i + 1\n",
    "else:\n",
    "    print (\"clear\") "
   ]
  },
  {
   "cell_type": "code",
   "execution_count": 6,
   "id": "824424aa",
   "metadata": {},
   "outputs": [],
   "source": [
    "## Пройдите по списку и объедините все элементы из списка в одну строку через пробел (цикл while)\n",
    "\n",
    "# Тестовые данные\n",
    "\n",
    "# [\"9\", \"caMii\", \" /\\y4LLIii\", \"proger\", \"v\", \"2022\", \"roDy\"] -> 9 caMii  /\\y4LLIii proger v 2022 roDy"
   ]
  },
  {
   "cell_type": "code",
   "execution_count": 224,
   "id": "87baf550",
   "metadata": {},
   "outputs": [
    {
     "name": "stdout",
     "output_type": "stream",
     "text": [
      "9 caMii  /\\y4LLIii proger v 2022 roDy jjj "
     ]
    }
   ],
   "source": [
    "info_list = [\"9\", \"caMii\", \" /\\y4LLIii\", \"proger\", \"v\", \"2022\", \"roDy\"]\n",
    "\n",
    "i = 0 \n",
    "sentence = []\n",
    "while i < len(info_list):\n",
    "    sentence = info_list[i] \n",
    "    print (sentence, end=\" \")\n",
    "    i = i + 1\n",
    "    "
   ]
  },
  {
   "cell_type": "code",
   "execution_count": 231,
   "id": "1c52c4b8",
   "metadata": {},
   "outputs": [],
   "source": [
    "## Пройдите по двум списка сразу и выведите сразу по два элемента - один из одного списка, другой из другого \n",
    "## (подсказка - обращайтесь по индексу к элементам обоих списков)\n",
    "\n",
    "# Тестовые данные\n",
    "\n",
    "color_list_1 = [\"White\", \"Black\", \"Red\" ]\n",
    "color_list_2 = [\"Red\", \"Green\", \"White\" ]\n",
    "\n",
    "# White Red\n",
    "# Black Green\n",
    "# Red White"
   ]
  },
  {
   "cell_type": "code",
   "execution_count": 232,
   "id": "a55ba8ec",
   "metadata": {},
   "outputs": [
    {
     "name": "stdout",
     "output_type": "stream",
     "text": [
      "White Red\n",
      "Black Green\n",
      "Red White\n"
     ]
    }
   ],
   "source": [
    "# with while \n",
    "color_list_1 = [\"White\", \"Black\", \"Red\"]\n",
    "color_list_2 = [\"Red\", \"Green\", \"White\"]\n",
    "\n",
    "i = 0\n",
    "while i < len(color_list_1) and i<len(color_list_2):\n",
    "    print (color_list_1[i], color_list_2[i])\n",
    "    i += 1"
   ]
  },
  {
   "cell_type": "code",
   "execution_count": 63,
   "id": "9d59ec07",
   "metadata": {},
   "outputs": [],
   "source": [
    "## Пройдите по списку и выводите каждый следующий элемент столько раз какой у него ((индекс + 1) * 3) в списке (цикл while) \n",
    "\n",
    "# Тестовые данные\n",
    "\n",
    "a = [\"a\", \"b\", \"c\", \"d\"] \n",
    "\n",
    "# ответ -> \"aaabbbbbbcccccccccdddddddddddd\""
   ]
  },
  {
   "cell_type": "code",
   "execution_count": 271,
   "id": "c3ede4b9",
   "metadata": {},
   "outputs": [
    {
     "name": "stdout",
     "output_type": "stream",
     "text": [
      "aaabbbbbbcccccccccdddddddddddd\n"
     ]
    }
   ],
   "source": [
    "a = [\"a\", \"b\", \"c\", \"d\"] \n",
    "\n",
    "resultat = \"\"\n",
    "\n",
    "i = 0\n",
    "\n",
    "while i < len(a):\n",
    "    number = (i + 1) * 3\n",
    "    lettre = a[i] * number\n",
    "    resultat += lettre\n",
    "    i += 1\n",
    "\n",
    "print(resultat)"
   ]
  },
  {
   "cell_type": "code",
   "execution_count": null,
   "id": "fee59929",
   "metadata": {},
   "outputs": [],
   "source": [
    "a = [\"a\", \"b\", \"c\", \"d\"] \n",
    "i = 0 \n",
    "while i < len(a):\n",
    "    if i == 0:\n",
    "        a = \n",
    "    "
   ]
  },
  {
   "cell_type": "code",
   "execution_count": 9,
   "id": "bfd569fd",
   "metadata": {},
   "outputs": [],
   "source": [
    "## Зайдите в каждый масив внутри (если это списко) и рассортируйте мне элементы по соответствующим спискам (не забудьте про append)\n",
    "\n",
    "sample = [[\"a\", \"b\", 1, 2.4], \"string\", [\"new\", 11111, 1000.0, \"old\"]]\n",
    "\n",
    "\n",
    "integers = []\n",
    "floats = []\n",
    "strings = []\n",
    "\n",
    "# ответ\n",
    "# integers -> [1, 11111]\n",
    "# floats -> [2.4, 1000.0]\n",
    "# strings -> [\"a\", \"b\", \"string\", \"new\", \"old\"]"
   ]
  },
  {
   "cell_type": "code",
   "execution_count": 203,
   "id": "46a4b291",
   "metadata": {},
   "outputs": [
    {
     "name": "stdout",
     "output_type": "stream",
     "text": [
      "integers: [1, 11111]\n",
      "floats: [2.4, 1000.0]\n",
      "strings: ['a', 'b', 'string', 'new', 'old']\n"
     ]
    }
   ],
   "source": [
    "sample: list = [[\"a\", \"b\", 1, 2.4], \"string\", [\"new\", 11111, 1000.0, \"old\"]] \n",
    "integers = []\n",
    "floats = []\n",
    "strings = []\n",
    "\n",
    "i = 0 \n",
    "while i < len(sample):\n",
    "    if type(sample[i]) == str:\n",
    "        strings.append(sample[i])\n",
    "    if type(sample[i]) == int:\n",
    "        integers.append(sample[i])\n",
    "    if type(sample[i]) == float:\n",
    "            floats.append(sample[i])\n",
    "    j: int = 0\n",
    "    while (j < len(sample[i]) and type(sample[i]) != str):\n",
    "        if type(sample[i][j]) == int:\n",
    "            integers.append(sample[i][j])\n",
    "        if type(sample[i][j]) == float:\n",
    "            floats.append(sample[i][j])\n",
    "        if type(sample[i][j]) == str:\n",
    "            strings.append(sample[i][j])\n",
    "        j += 1\n",
    "    i += 1\n",
    "print(\"integers: \"+str(integers))\n",
    "print (\"floats: \"+ str(floats))\n",
    "print (\"strings: \"+ str(strings))"
   ]
  },
  {
   "cell_type": "markdown",
   "id": "4d785ec2",
   "metadata": {},
   "source": [
    "## Библиотеки "
   ]
  },
  {
   "cell_type": "code",
   "execution_count": 10,
   "id": "0937e5e0",
   "metadata": {},
   "outputs": [],
   "source": [
    "## Напишите программу, которая выводит настоящее время ( то есть в ремя в которую программа запущена, используйте либу - time) \n",
    "\n",
    "# Тестовые данные (например)\n",
    "\n",
    "# 'Sat Oct  1 00:34:36 2022'"
   ]
  },
  {
   "cell_type": "code",
   "execution_count": 279,
   "id": "3c10eb55",
   "metadata": {},
   "outputs": [
    {
     "name": "stdout",
     "output_type": "stream",
     "text": [
      "Mon Oct 17 00:01:21 2022\n"
     ]
    }
   ],
   "source": [
    "import time\n",
    "\n",
    "now = time.strftime(\"%a %b %d %H:%M:%S %Y\")\n",
    "\n",
    "print(now)"
   ]
  },
  {
   "cell_type": "code",
   "execution_count": null,
   "id": "45605a20",
   "metadata": {},
   "outputs": [],
   "source": []
  }
 ],
 "metadata": {
  "kernelspec": {
   "display_name": "Python 3 (ipykernel)",
   "language": "python",
   "name": "python3"
  },
  "language_info": {
   "codemirror_mode": {
    "name": "ipython",
    "version": 3
   },
   "file_extension": ".py",
   "mimetype": "text/x-python",
   "name": "python",
   "nbconvert_exporter": "python",
   "pygments_lexer": "ipython3",
   "version": "3.9.12"
  }
 },
 "nbformat": 4,
 "nbformat_minor": 5
}
